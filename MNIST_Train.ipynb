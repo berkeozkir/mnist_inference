{
 "cells": [
  {
   "cell_type": "code",
   "execution_count": 1,
   "id": "e0399d77-7889-4f05-99f0-70542a1d4917",
   "metadata": {},
   "outputs": [],
   "source": [
    "import torch\n",
    "import torch.nn as nn\n",
    "import torch.nn.functional as f\n",
    "import torch.utils.data as F\n",
    "from torch.utils.data import DataLoader\n",
    "from torchvision import datasets, transforms\n",
    "from torchvision.utils import make_grid"
   ]
  },
  {
   "cell_type": "code",
   "execution_count": 2,
   "id": "d29408d6-ccba-435a-b01b-172c4532cba5",
   "metadata": {},
   "outputs": [],
   "source": [
    "import numpy as np\n",
    "import pandas as pd\n",
    "from sklearn.metrics import confusion_matrix\n",
    "import matplotlib.pyplot as plt\n",
    "%matplotlib inline"
   ]
  },
  {
   "cell_type": "code",
   "execution_count": 3,
   "id": "f9a7ca51-d843-4c10-9316-f433760b74a7",
   "metadata": {},
   "outputs": [],
   "source": [
    "transform = transforms.ToTensor()"
   ]
  },
  {
   "cell_type": "code",
   "execution_count": 5,
   "id": "2b9c0861-c2ae-46d0-90b6-7c9853565169",
   "metadata": {},
   "outputs": [],
   "source": [
    "train_data = datasets.MNIST(root = './Data', train=True, download=True,transform=transform)\n",
    "test_data = datasets.MNIST(root = './Data', train=False, download=True,transform=transform)"
   ]
  },
  {
   "cell_type": "code",
   "execution_count": 6,
   "id": "07049436-d02e-4406-ab9c-a8c54bee8e0d",
   "metadata": {},
   "outputs": [
    {
     "data": {
      "text/plain": [
       "Dataset MNIST\n",
       "    Number of datapoints: 60000\n",
       "    Root location: ./Data\n",
       "    Split: Train\n",
       "    StandardTransform\n",
       "Transform: ToTensor()"
      ]
     },
     "execution_count": 6,
     "metadata": {},
     "output_type": "execute_result"
    }
   ],
   "source": [
    "train_data"
   ]
  },
  {
   "cell_type": "code",
   "execution_count": 7,
   "id": "fb39de18-70fb-49d5-a73c-3b83797dd79b",
   "metadata": {},
   "outputs": [
    {
     "data": {
      "text/plain": [
       "Dataset MNIST\n",
       "    Number of datapoints: 10000\n",
       "    Root location: ./Data\n",
       "    Split: Test\n",
       "    StandardTransform\n",
       "Transform: ToTensor()"
      ]
     },
     "execution_count": 7,
     "metadata": {},
     "output_type": "execute_result"
    }
   ],
   "source": [
    "test_data"
   ]
  },
  {
   "cell_type": "code",
   "execution_count": 8,
   "id": "fb6d975c-b2ea-4935-8ffc-2159945953da",
   "metadata": {},
   "outputs": [],
   "source": [
    "train_loader = DataLoader(train_data, batch_size=10, shuffle=True)\n",
    "test_loader = DataLoader(test_data,batch_size=10,shuffle=False)"
   ]
  },
  {
   "cell_type": "code",
   "execution_count": 21,
   "id": "b8ed0aec-40c5-4f56-95fe-0a5a3d8f89f0",
   "metadata": {},
   "outputs": [],
   "source": [
    "class ConvolutionNetwork(nn.Module):\n",
    "    def __init__(self):\n",
    "        super().__init__()\n",
    "        self.conv1 = nn.Conv2d(1, 6, 3, 1)  # input: 1 channel (grayscale), output: 6 channels\n",
    "        self.conv2 = nn.Conv2d(6, 16, 3, 1)  # input: 6 channels, output: 16 channels\n",
    "        self.fc1 = nn.Linear(5 * 5 * 16, 120)  # Fully connected layer\n",
    "        self.fc2 = nn.Linear(120, 84)\n",
    "        self.fc3 = nn.Linear(84, 10)\n",
    "\n",
    "    def forward(self, x):\n",
    "        x = f.relu(self.conv1(x))  # Apply ReLU after first convolution\n",
    "        x = f.max_pool2d(x, 2, 2)  # Apply max pooling\n",
    "        x = f.relu(self.conv2(x))  # Apply ReLU after second convolution\n",
    "        x = f.max_pool2d(x, 2, 2)  # Apply max pooling\n",
    "        x = x.view(-1, 16 * 5 * 5)  # Flatten for fully connected layer\n",
    "        x = f.relu(self.fc1(x))  # First fully connected layer\n",
    "        x = f.relu(self.fc2(x))  # Second fully connected layer\n",
    "        x = self.fc3(x)  # Output layer\n",
    "        return f.log_softmax(x, dim=1)  # Log Softmax for output"
   ]
  },
  {
   "cell_type": "code",
   "execution_count": 30,
   "id": "19f7d003-4be7-46cd-83fb-5805bcf1107c",
   "metadata": {},
   "outputs": [
    {
     "data": {
      "text/plain": [
       "ConvolutionNetwork(\n",
       "  (conv1): Conv2d(1, 6, kernel_size=(3, 3), stride=(1, 1))\n",
       "  (conv2): Conv2d(6, 16, kernel_size=(3, 3), stride=(1, 1))\n",
       "  (fc1): Linear(in_features=400, out_features=120, bias=True)\n",
       "  (fc2): Linear(in_features=120, out_features=84, bias=True)\n",
       "  (fc3): Linear(in_features=84, out_features=10, bias=True)\n",
       ")"
      ]
     },
     "execution_count": 30,
     "metadata": {},
     "output_type": "execute_result"
    }
   ],
   "source": [
    "torch.manual_seed(42)\n",
    "model = ConvolutionNetwork()\n",
    "model"
   ]
  },
  {
   "cell_type": "code",
   "execution_count": 31,
   "id": "f3d7603a-6dfe-40ac-b5f5-cd3a3a61c548",
   "metadata": {},
   "outputs": [
    {
     "name": "stdout",
     "output_type": "stream",
     "text": [
      "54\n",
      "6\n",
      "864\n",
      "16\n",
      "48000\n",
      "120\n",
      "10080\n",
      "84\n",
      "840\n",
      "10\n"
     ]
    }
   ],
   "source": [
    "for param in model.parameters():\n",
    "    print(param.numel())"
   ]
  },
  {
   "cell_type": "code",
   "execution_count": 32,
   "id": "935fa3f5-6b0f-40fa-855b-2fdee94f5052",
   "metadata": {},
   "outputs": [],
   "source": [
    "criterion = nn.CrossEntropyLoss()\n",
    "optimizer = torch.optim.Adam(model.parameters(), lr=0.001)"
   ]
  },
  {
   "cell_type": "code",
   "execution_count": 44,
   "id": "a52ad181-6ebe-4ed7-a25e-b600ff39c8fa",
   "metadata": {},
   "outputs": [
    {
     "name": "stdout",
     "output_type": "stream",
     "text": [
      "Epoch: 0 Batch: 600 Loss: 0.0006739984964951873\n",
      "Epoch: 0 Batch: 1200 Loss: 0.008998407050967216\n",
      "Epoch: 0 Batch: 1800 Loss: 0.01400483213365078\n",
      "Epoch: 0 Batch: 2400 Loss: 0.0008749201660975814\n",
      "Epoch: 0 Batch: 3000 Loss: 0.00018085818737745285\n",
      "Epoch: 0 Batch: 3600 Loss: 5.590880846284563e-06\n",
      "Epoch: 0 Batch: 4200 Loss: 0.10587972402572632\n",
      "Epoch: 0 Batch: 4800 Loss: 0.06285103410482407\n",
      "Epoch: 0 Batch: 5400 Loss: 0.0012491137022152543\n",
      "Epoch: 0 Batch: 6000 Loss: 0.0025069869589060545\n",
      "Epoch: 1 Batch: 600 Loss: 0.0004299763240851462\n",
      "Epoch: 1 Batch: 1200 Loss: 1.814203460526187e-05\n",
      "Epoch: 1 Batch: 1800 Loss: 6.435294926632196e-05\n",
      "Epoch: 1 Batch: 2400 Loss: 0.01580653339624405\n",
      "Epoch: 1 Batch: 3000 Loss: 9.042116289492697e-05\n",
      "Epoch: 1 Batch: 3600 Loss: 0.000557052087970078\n",
      "Epoch: 1 Batch: 4200 Loss: 0.013021165505051613\n",
      "Epoch: 1 Batch: 4800 Loss: 0.0003997675667051226\n",
      "Epoch: 1 Batch: 5400 Loss: 8.621536835562438e-05\n",
      "Epoch: 1 Batch: 6000 Loss: 0.0020982970017939806\n",
      "Epoch: 2 Batch: 600 Loss: 0.0019151484593749046\n",
      "Epoch: 2 Batch: 1200 Loss: 0.21376410126686096\n",
      "Epoch: 2 Batch: 1800 Loss: 0.004604484420269728\n",
      "Epoch: 2 Batch: 2400 Loss: 0.10088006407022476\n",
      "Epoch: 2 Batch: 3000 Loss: 0.013342219404876232\n",
      "Epoch: 2 Batch: 3600 Loss: 0.00047207801253534853\n",
      "Epoch: 2 Batch: 4200 Loss: 0.001979245338588953\n",
      "Epoch: 2 Batch: 4800 Loss: 0.005703413859009743\n",
      "Epoch: 2 Batch: 5400 Loss: 0.0001785902277333662\n",
      "Epoch: 2 Batch: 6000 Loss: 5.189820149098523e-05\n",
      "Epoch: 3 Batch: 600 Loss: 1.6497584510943852e-05\n",
      "Epoch: 3 Batch: 1200 Loss: 0.4625137448310852\n",
      "Epoch: 3 Batch: 1800 Loss: 0.00016338189016096294\n",
      "Epoch: 3 Batch: 2400 Loss: 0.2320675551891327\n",
      "Epoch: 3 Batch: 3000 Loss: 0.04807733744382858\n",
      "Epoch: 3 Batch: 3600 Loss: 0.0006333016790449619\n",
      "Epoch: 3 Batch: 4200 Loss: 0.014681898057460785\n",
      "Epoch: 3 Batch: 4800 Loss: 1.0442377060826402e-05\n",
      "Epoch: 3 Batch: 5400 Loss: 1.349413378193276e-05\n",
      "Epoch: 3 Batch: 6000 Loss: 4.208048721920932e-06\n",
      "Epoch: 4 Batch: 600 Loss: 0.0001866514649009332\n",
      "Epoch: 4 Batch: 1200 Loss: 0.0027799915987998247\n",
      "Epoch: 4 Batch: 1800 Loss: 0.0011981818825006485\n",
      "Epoch: 4 Batch: 2400 Loss: 3.5578003007685766e-05\n",
      "Epoch: 4 Batch: 3000 Loss: 9.955048881238326e-05\n",
      "Epoch: 4 Batch: 3600 Loss: 0.00015355178038589656\n",
      "Epoch: 4 Batch: 4200 Loss: 1.0490388149264618e-06\n",
      "Epoch: 4 Batch: 4800 Loss: 0.00046664048568345606\n",
      "Epoch: 4 Batch: 5400 Loss: 0.005740943364799023\n",
      "Epoch: 4 Batch: 6000 Loss: 0.0003487313515506685\n",
      "Training completed in 0.68 minutes\n"
     ]
    }
   ],
   "source": [
    "# Training loop\n",
    "import time\n",
    "start_time = time.time()\n",
    "\n",
    "epochs = 5\n",
    "train_losses = []\n",
    "test_losses = []\n",
    "train_correct = []\n",
    "test_correct = []\n",
    "\n",
    "for i in range(epochs):\n",
    "    trn_corr = 0\n",
    "    tst_corr = 0\n",
    "\n",
    "    # Training\n",
    "    for b, (X_train, y_train) in enumerate(train_loader):\n",
    "        b += 1\n",
    "        \n",
    "        y_pred = model(X_train)  # Forward pass\n",
    "        loss = criterion(y_pred, y_train)  # Calculate loss\n",
    "        \n",
    "        prediction = torch.max(y_pred.data, 1)[1]  # Get predictions\n",
    "        batch_corr = (prediction == y_train).sum()  # Count correct predictions\n",
    "        trn_corr += batch_corr  # Accumulate correct predictions\n",
    "        \n",
    "        optimizer.zero_grad()  # Zero gradients\n",
    "        loss.backward()  # Backpropagation\n",
    "        optimizer.step()  # Update weights\n",
    "\n",
    "        if b % 600 == 0:\n",
    "            print(f\"Epoch: {i} Batch: {b} Loss: {loss.item()}\")\n",
    "\n",
    "    train_losses.append(loss.item())  # Track loss\n",
    "    test_losses.append(tst_corr)\n",
    "    train_correct.append(trn_corr.item())  # Track correct predictions\n",
    "\n",
    "    # Validation\n",
    "    with torch.no_grad():\n",
    "        for b, (X_test, y_test) in enumerate(test_loader):\n",
    "            y_val = model(X_test)  # Forward pass\n",
    "            predicted = torch.max(y_val.data, 1)[1]  # Get predictions\n",
    "            tst_corr += (predicted == y_test).sum()  # Count correct predictions\n",
    "\n",
    "current_time = time.time()\n",
    "total_time = (current_time - start_time) / 60\n",
    "print(f\"Training completed in {total_time:.2f} minutes\")\n",
    "\n",
    "model_path = \"mnist_model.pth\"\n",
    "torch.save(model.state_dict(), model_path)\n"
   ]
  },
  {
   "cell_type": "code",
   "execution_count": 34,
   "id": "61960bec-4da6-48af-a5ba-2dbed571b836",
   "metadata": {},
   "outputs": [
    {
     "data": {
      "text/plain": [
       "<matplotlib.legend.Legend at 0x35a75f550>"
      ]
     },
     "execution_count": 34,
     "metadata": {},
     "output_type": "execute_result"
    },
    {
     "data": {
      "image/png": "[encoded data removed]",
      "text/plain": [
       "<Figure size 640x480 with 1 Axes>"
      ]
     },
     "metadata": {},
     "output_type": "display_data"
    }
   ],
   "source": [
    "plt.plot(train_losses, label = \"train loss\")\n",
    "plt.plot(test_losses, label = \"validation loss\")\n",
    "plt.title('Loss At Epoch')\n",
    "plt.legend()"
   ]
  },
  {
   "cell_type": "code",
   "execution_count": 39,
   "id": "1e2b3ecd-c0b2-437d-b263-e22603c96a54",
   "metadata": {},
   "outputs": [],
   "source": [
    "test_load_all = DataLoader(test_data, batch_size=10000, shuffle=False)"
   ]
  },
  {
   "cell_type": "code",
   "execution_count": 40,
   "id": "4680c04e-1a58-45d4-8383-dc1da5629dad",
   "metadata": {},
   "outputs": [],
   "source": [
    "with torch.no_grad():\n",
    "    correct = 0\n",
    "    for X_test, y_test in test_load_all:\n",
    "        y_val = model(X_test)\n",
    "        predicted = torch.max(y_val,1)[1]\n",
    "        correct += (predicted == y_test).sum()"
   ]
  },
  {
   "cell_type": "code",
   "execution_count": 42,
   "id": "86195ebd-8bd0-4d80-a0d8-ce0290f85a07",
   "metadata": {},
   "outputs": [
    {
     "data": {
      "text/plain": [
       "0.9878"
      ]
     },
     "execution_count": 42,
     "metadata": {},
     "output_type": "execute_result"
    }
   ],
   "source": [
    "correct.item() / len(test_data)"
   ]
  },
  {
   "cell_type": "code",
   "execution_count": 43,
   "id": "e343c907-6dea-4893-bdb3-bedebe7737df",
   "metadata": {},
   "outputs": [
    {
     "name": "stdout",
     "output_type": "stream",
     "text": [
      "[[   0    1    2    3    4    5    6    7    8    9]]\n",
      "\n",
      "[[ 971    0    1    0    0    2    3    1    4    1]\n",
      " [   0 1130    1    0    0    0    1    3    0    0]\n",
      " [   4    1 1026    1    0    0    1    7    1    0]\n",
      " [   0    2    0 1004    0   23    0    0    2    5]\n",
      " [   0    0    1    0  978    0    1    2    1    7]\n",
      " [   0    0    0    0    0  861    1    0    0    3]\n",
      " [   4    2    0    0    1    3  950    0    0    1]\n",
      " [   1    0    2    1    0    1    0 1009    0    4]\n",
      " [   0    0    1    4    1    1    1    2  965    4]\n",
      " [   0    0    0    0    2    1    0    4    1  984]]\n"
     ]
    }
   ],
   "source": [
    "np.set_printoptions(formatter=dict(int=lambda x: f'{x:4}' ))\n",
    "print(np.arange(10).reshape(1,10))\n",
    "print()\n",
    "\n",
    "print(confusion_matrix(predicted.view(-1), y_test.view(-1)))"
   ]
  },
  {
   "cell_type": "code",
   "execution_count": 45,
   "id": "0e6e8680-e7d3-4e21-a269-b75cc64c4f41",
   "metadata": {},
   "outputs": [
    {
     "data": {
      "text/plain": [
       "ConvolutionNetwork(\n",
       "  (conv1): Conv2d(1, 6, kernel_size=(3, 3), stride=(1, 1))\n",
       "  (conv2): Conv2d(6, 16, kernel_size=(3, 3), stride=(1, 1))\n",
       "  (fc1): Linear(in_features=400, out_features=120, bias=True)\n",
       "  (fc2): Linear(in_features=120, out_features=84, bias=True)\n",
       "  (fc3): Linear(in_features=84, out_features=10, bias=True)\n",
       ")"
      ]
     },
     "execution_count": 45,
     "metadata": {},
     "output_type": "execute_result"
    }
   ],
   "source": [
    "model.eval()"
   ]
  }
 ],
 "metadata": {
  "kernelspec": {
   "display_name": "Python 3 (ipykernel)",
   "language": "python",
   "name": "python3"
  },
  "language_info": {
   "codemirror_mode": {
    "name": "ipython",
    "version": 3
   },
   "file_extension": ".py",
   "mimetype": "text/x-python",
   "name": "python",
   "nbconvert_exporter": "python",
   "pygments_lexer": "ipython3",
   "version": "3.11.5"
  }
 },
 "nbformat": 4,
 "nbformat_minor": 5
}
